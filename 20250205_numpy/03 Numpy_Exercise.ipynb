{
  "cells": [
    {
      "cell_type": "markdown",
      "metadata": {
        "id": "ggFUZOmm3V8H"
      },
      "source": [
        "## $\\Large{Numpy\\; 練習題}$"
      ]
    },
    {
      "cell_type": "code",
      "execution_count": 1,
      "metadata": {
        "id": "6KNEKLNu3V8H"
      },
      "outputs": [],
      "source": [
        "import numpy as np"
      ]
    },
    {
      "cell_type": "markdown",
      "metadata": {
        "id": "E7y13BffZFY6"
      },
      "source": [
        "---\n",
        "# 1-Dimension Array"
      ]
    },
    {
      "cell_type": "markdown",
      "source": [
        "## Exercise 1\n",
        "使用np.arrange 函數創建一個數值從10到49的一維陣列"
      ],
      "metadata": {
        "id": "rUF_-tnCZJ6s"
      }
    },
    {
      "cell_type": "code",
      "execution_count": 2,
      "metadata": {
        "id": "nB7ScIE23V8M",
        "outputId": "31c2df67-b928-486b-cd4a-3a6edb814efb",
        "colab": {
          "base_uri": "https://localhost:8080/"
        }
      },
      "outputs": [
        {
          "output_type": "stream",
          "name": "stdout",
          "text": [
            "[10 11 12 13 14 15 16 17 18 19 20 21 22 23 24 25 26 27 28 29 30 31 32 33\n",
            " 34 35 36 37 38 39 40 41 42 43 44 45 46 47 48 49]\n"
          ]
        }
      ],
      "source": [
        "arr = np.arange(10, 50)\n",
        "print(arr)"
      ]
    },
    {
      "cell_type": "markdown",
      "metadata": {
        "id": "6FR8HFzLZFY8"
      },
      "source": [
        "## Exercise 2\n",
        "請建立一個陣列，裡頭包含0~101中所有完全平方數(ex. 1, 4, 9...)"
      ]
    },
    {
      "cell_type": "code",
      "execution_count": 5,
      "metadata": {
        "id": "2HLC2YBtZFY8",
        "outputId": "bb95eebf-7ffb-4070-b7e9-86a9efe0089f",
        "colab": {
          "base_uri": "https://localhost:8080/"
        }
      },
      "outputs": [
        {
          "output_type": "stream",
          "name": "stdout",
          "text": [
            "[    0     1     4     9    16    25    36    49    64    81   100   121\n",
            "   144   169   196   225   256   289   324   361   400   441   484   529\n",
            "   576   625   676   729   784   841   900   961  1024  1089  1156  1225\n",
            "  1296  1369  1444  1521  1600  1681  1764  1849  1936  2025  2116  2209\n",
            "  2304  2401  2500  2601  2704  2809  2916  3025  3136  3249  3364  3481\n",
            "  3600  3721  3844  3969  4096  4225  4356  4489  4624  4761  4900  5041\n",
            "  5184  5329  5476  5625  5776  5929  6084  6241  6400  6561  6724  6889\n",
            "  7056  7225  7396  7569  7744  7921  8100  8281  8464  8649  8836  9025\n",
            "  9216  9409  9604  9801 10000 10201]\n"
          ]
        }
      ],
      "source": [
        "arr = np.arange(0, 102)\n",
        "print(np.square(arr))"
      ]
    },
    {
      "cell_type": "markdown",
      "source": [
        "## Exercise 3\n",
        "反轉陣列x使得陣列內的元素從尾排到頭"
      ],
      "metadata": {
        "id": "xl9t5OhPZM9D"
      }
    },
    {
      "cell_type": "code",
      "execution_count": 6,
      "metadata": {
        "id": "9468qVTX3V8R"
      },
      "outputs": [],
      "source": [
        "x = np.array([2, 0, 3, 1, 4, 7])"
      ]
    },
    {
      "cell_type": "code",
      "execution_count": 7,
      "metadata": {
        "id": "M3enqNUsZFY9",
        "outputId": "4cca7545-2fb6-4a86-bc29-0469edaa38b9",
        "colab": {
          "base_uri": "https://localhost:8080/"
        }
      },
      "outputs": [
        {
          "output_type": "stream",
          "name": "stdout",
          "text": [
            "[7 4 1 3 0 2]\n"
          ]
        }
      ],
      "source": [
        "print(x[::-1])"
      ]
    },
    {
      "cell_type": "markdown",
      "source": [
        "## Exercise 4\n",
        "將x陣列內數值介於3到8(包含3和8)的元素取負號"
      ],
      "metadata": {
        "id": "LpSJ8JYLZPSp"
      }
    },
    {
      "cell_type": "code",
      "execution_count": 27,
      "metadata": {
        "id": "9iQpH5dZZFY9"
      },
      "outputs": [],
      "source": [
        "x = np.array([6, 2, 8, 3, 0, 1])"
      ]
    },
    {
      "cell_type": "code",
      "execution_count": 28,
      "metadata": {
        "id": "if9bGNLLZFY-",
        "outputId": "13da2052-d7a9-46a3-9c40-b44ecbc868b5",
        "colab": {
          "base_uri": "https://localhost:8080/"
        }
      },
      "outputs": [
        {
          "output_type": "stream",
          "name": "stdout",
          "text": [
            "[-6 -8 -3]\n"
          ]
        }
      ],
      "source": [
        "\n",
        "\n",
        "print(-x[(x >= 3) & (x <= 8)])"
      ]
    },
    {
      "cell_type": "markdown",
      "source": [
        "## Exercise 5\n",
        "創建一個長度為10的隨機數字陣列，並且將最大值取代為0"
      ],
      "metadata": {
        "id": "P1FKNG31ZRdx"
      }
    },
    {
      "cell_type": "code",
      "execution_count": 32,
      "metadata": {
        "id": "7Of-nk4aZFY-",
        "outputId": "3b5a200f-7dd6-4454-9cc2-bdb40ff42b3e",
        "colab": {
          "base_uri": "https://localhost:8080/"
        }
      },
      "outputs": [
        {
          "output_type": "stream",
          "name": "stdout",
          "text": [
            "[0.1502944  0.85626414 0.72938429 0.52540108 0.5102622  0.5987104\n",
            " 0.05182781 0.68637043 0.34932368 0.98711446]\n",
            "[0.1502944  0.85626414 0.72938429 0.52540108 0.5102622  0.5987104\n",
            " 0.05182781 0.68637043 0.34932368 0.        ]\n"
          ]
        }
      ],
      "source": [
        "x = np.random.random((10))\n",
        "print(x)\n",
        "x[np.argmax(x)] = 0\n",
        "print(x)"
      ]
    },
    {
      "cell_type": "markdown",
      "source": [
        "## Exercise 6\n",
        "從陣列x中取出符合以下條件的子集\n",
        "\n",
        "(1) 不能被 3 整除\n",
        "\n",
        "(2) 可以被 3 整除\n",
        "\n",
        "(3) 可以被 3 或 5 整除"
      ],
      "metadata": {
        "id": "Ktkv0c0NZT63"
      }
    },
    {
      "cell_type": "code",
      "execution_count": 34,
      "metadata": {
        "id": "iXB4gnd1ZFY-"
      },
      "outputs": [],
      "source": [
        "x = np.array([3, 4, 6, 10, 24, 89, 45, 43, 46, 99, 100])"
      ]
    },
    {
      "cell_type": "code",
      "execution_count": 36,
      "metadata": {
        "id": "b3zi1ajEZFY_",
        "outputId": "4236d9ef-ba1f-4c34-b1c7-d18591f3a6e5",
        "colab": {
          "base_uri": "https://localhost:8080/"
        }
      },
      "outputs": [
        {
          "output_type": "stream",
          "name": "stdout",
          "text": [
            "[  4  10  89  43  46 100]\n",
            "[ 3  6 24 45 99]\n",
            "[  3   6  10  24  45  99 100]\n"
          ]
        }
      ],
      "source": [
        "y = x[x%3 != 0]\n",
        "print(y)\n",
        "z = x[x%3 == 0]\n",
        "print(z)\n",
        "a = x[(x%3 == 0) | (x%5 == 0)]\n",
        "print(a)"
      ]
    },
    {
      "cell_type": "markdown",
      "metadata": {
        "id": "dWol65hbZFY_"
      },
      "source": [
        "## Exercise 7\n",
        "使用np.arange建立從2019年1月到12月共12個月的陣列資料\n",
        "\n",
        "範例結果如下\n",
        "<img src='https://i.imgur.com/XrH8VCs.png'/>"
      ]
    },
    {
      "cell_type": "code",
      "execution_count": 39,
      "metadata": {
        "id": "hCasCdc1ZFY_",
        "outputId": "38a9e250-190f-490f-8ae6-da44993b260b",
        "colab": {
          "base_uri": "https://localhost:8080/",
          "height": 141
        }
      },
      "outputs": [
        {
          "output_type": "error",
          "ename": "NameError",
          "evalue": "name '使用np' is not defined",
          "traceback": [
            "\u001b[0;31m---------------------------------------------------------------------------\u001b[0m",
            "\u001b[0;31mNameError\u001b[0m                                 Traceback (most recent call last)",
            "\u001b[0;32m<ipython-input-39-5098f5c3883a>\u001b[0m in \u001b[0;36m<cell line: 0>\u001b[0;34m()\u001b[0m\n\u001b[0;32m----> 1\u001b[0;31m \u001b[0m使用np\u001b[0m\u001b[0;34m.\u001b[0m\u001b[0marange建立從2019年1月到12月共12個月的陣列資料\u001b[0m\u001b[0;34m\u001b[0m\u001b[0;34m\u001b[0m\u001b[0m\n\u001b[0m",
            "\u001b[0;31mNameError\u001b[0m: name '使用np' is not defined"
          ]
        }
      ],
      "source": [
        "使用np.arange建立從2019年1月到12月共12個月的陣列資料"
      ]
    },
    {
      "cell_type": "markdown",
      "metadata": {
        "id": "EOC-PxmZZFY_"
      },
      "source": [
        "---\n",
        "# n-Dimension Array"
      ]
    },
    {
      "cell_type": "markdown",
      "metadata": {
        "id": "PPpaEeZwZFY_"
      },
      "source": [
        "## Exercise 8\n",
        "請以ndim與shape兩個用法印出陣列x的維度數目與各維度的長度"
      ]
    },
    {
      "cell_type": "code",
      "execution_count": null,
      "metadata": {
        "id": "Qseed7RJZFY_"
      },
      "outputs": [],
      "source": [
        "x = np.array([[[[[[[[[[[[[[[[[5, 4, 3, 2, 1]]]], [[[[10, 9, 8, 7, 6]]]]]]]]]]]]]]]]])"
      ]
    },
    {
      "cell_type": "code",
      "execution_count": null,
      "metadata": {
        "id": "Fz2HW15wZFZA"
      },
      "outputs": [],
      "source": []
    },
    {
      "cell_type": "markdown",
      "source": [
        "## Exercise 9\n",
        "使用np.random.random 函數創建一個3x3x3的陣列"
      ],
      "metadata": {
        "id": "Ktmkc3uUZWyz"
      }
    },
    {
      "cell_type": "code",
      "execution_count": null,
      "metadata": {
        "id": "WdVy_Z683V8V"
      },
      "outputs": [],
      "source": []
    },
    {
      "cell_type": "markdown",
      "source": [
        "## Exercise 10\n",
        "創建一個5x5且數值介於0到4之間的整數陣列"
      ],
      "metadata": {
        "id": "iwJPoGp0ZZZR"
      }
    },
    {
      "cell_type": "code",
      "execution_count": null,
      "metadata": {
        "id": "llG_MeMCZFZA"
      },
      "outputs": [],
      "source": []
    },
    {
      "cell_type": "markdown",
      "source": [
        "## Exercise 11\n",
        "創建一個擁有隨機數值且形狀為10x10的陣列，並且使用np.min 和 np.max兩函數找出陣列中的最大值/最小值"
      ],
      "metadata": {
        "id": "APrvxc_8ZbYv"
      }
    },
    {
      "cell_type": "code",
      "execution_count": null,
      "metadata": {
        "id": "t2j9bQw33V8Z"
      },
      "outputs": [],
      "source": []
    },
    {
      "cell_type": "markdown",
      "metadata": {
        "id": "vUu_289XZFZC"
      },
      "source": [
        "## Exercise 12\n",
        "使用reshape函數將陣列x轉成最後一個維度的長度為1且第一個維度為3的3維陣列"
      ]
    },
    {
      "cell_type": "code",
      "execution_count": null,
      "metadata": {
        "id": "zEQAIjKLZFZD"
      },
      "outputs": [],
      "source": [
        "x = np.arange(9)"
      ]
    },
    {
      "cell_type": "code",
      "execution_count": null,
      "metadata": {
        "id": "GChybyZhZFZD"
      },
      "outputs": [],
      "source": []
    },
    {
      "cell_type": "markdown",
      "metadata": {
        "id": "JbMAkxo6ZFZD"
      },
      "source": [
        "## Exercise 13\n",
        "請針對x陣列中的每欄資料做累積加總\n",
        "\n",
        "註：加總後的陣列數值將為 [[2, 6, 3], [7, 15, 4]]"
      ]
    },
    {
      "cell_type": "code",
      "execution_count": null,
      "metadata": {
        "id": "Rq8-7AhyZFZD"
      },
      "outputs": [],
      "source": [
        "x = np.array([2, 6, 3, 5, 9, 1]).reshape(2, -1)"
      ]
    },
    {
      "cell_type": "code",
      "execution_count": null,
      "metadata": {
        "id": "YN6iQtBjZFZD"
      },
      "outputs": [],
      "source": []
    },
    {
      "cell_type": "markdown",
      "source": [
        "## Exercise 14\n",
        "陣列標準化: 將x陣列內所有的元素除以x陣列內元素的最大值"
      ],
      "metadata": {
        "id": "UR31XV0lZdqA"
      }
    },
    {
      "cell_type": "code",
      "execution_count": null,
      "metadata": {
        "id": "vN4LagRkZFZE"
      },
      "outputs": [],
      "source": [
        "x = np.random.randn(6).reshape(2, 3)"
      ]
    },
    {
      "cell_type": "code",
      "execution_count": null,
      "metadata": {
        "id": "qEpjr7MvZFZE"
      },
      "outputs": [],
      "source": []
    },
    {
      "cell_type": "markdown",
      "metadata": {
        "id": "AlPX8QKgZFZE"
      },
      "source": [
        "## Exercise 15\n",
        "請計算出x陣列中相鄰數字的差異並同樣存成np.array型態\n",
        "\n",
        "註：由於x陣列有6個數字，因此相鄰數字的差異共會有5個數值，依序為 [-151, 224, -158, -88, 572]"
      ]
    },
    {
      "cell_type": "code",
      "execution_count": null,
      "metadata": {
        "id": "p871cBmoZFZE"
      },
      "outputs": [],
      "source": [
        "x = np.array([183, 32, 256, 98, 10, 582])"
      ]
    },
    {
      "cell_type": "code",
      "execution_count": null,
      "metadata": {
        "id": "oXcDnFXSZFZE"
      },
      "outputs": [],
      "source": []
    },
    {
      "cell_type": "markdown",
      "metadata": {
        "id": "KpmVRtkPZFZE"
      },
      "source": [
        "## Exercise 16\n",
        "請將x陣列中所有數值可被3整除的元素索引列出\n",
        "\n",
        "註：由於x為二維陣列，單一個元素的索引會有兩個數字(ex.[1, 0])"
      ]
    },
    {
      "cell_type": "code",
      "execution_count": null,
      "metadata": {
        "id": "IWVYXt9AZFZF"
      },
      "outputs": [],
      "source": [
        "x = np.arange(20).reshape(4, 5)"
      ]
    },
    {
      "cell_type": "code",
      "execution_count": null,
      "metadata": {
        "id": "41X3ZjjSZFZF"
      },
      "outputs": [],
      "source": []
    },
    {
      "cell_type": "markdown",
      "source": [
        "## Exercise 17\n",
        "使用np.pad 函數在陣列x外圍加一層0，使得原本3x3的陣列變為5x5"
      ],
      "metadata": {
        "id": "jh125XR_ZgAa"
      }
    },
    {
      "cell_type": "code",
      "execution_count": null,
      "metadata": {
        "id": "1hp3gjzn3V8e"
      },
      "outputs": [],
      "source": [
        "x = np.ones(shape=(3, 3))"
      ]
    },
    {
      "cell_type": "code",
      "execution_count": null,
      "metadata": {
        "id": "CTBxsdI3ZFZF"
      },
      "outputs": [],
      "source": []
    },
    {
      "cell_type": "markdown",
      "metadata": {
        "id": "NHkNTexpZFZF"
      },
      "source": [
        "## Exercise 18\n",
        "計算x與y兩兩元素的乘積並做加總(答案應為32)\n",
        "\n",
        "註：上述的做法其實就是矩陣內積，因此有超過兩種以上的作法可以計算出此答案，大家可以試試看自己會幾種"
      ]
    },
    {
      "cell_type": "code",
      "execution_count": null,
      "metadata": {
        "id": "fk5aRUNnZFZF"
      },
      "outputs": [],
      "source": [
        "x = np.array([[1, 2, 3]])\n",
        "y = np.array([[4, 5, 6]])"
      ]
    },
    {
      "cell_type": "code",
      "execution_count": null,
      "metadata": {
        "id": "zcLJFYWuZFZF"
      },
      "outputs": [],
      "source": []
    },
    {
      "cell_type": "markdown",
      "metadata": {
        "id": "4EhpQz4QZFZG"
      },
      "source": [
        "## Exercise 19\n",
        "使用np.concatenate函數將陣列x與陣列y合併在一起，使其與```np.append(x, y, axis = 1)```結果相同"
      ]
    },
    {
      "cell_type": "code",
      "execution_count": null,
      "metadata": {
        "id": "cLfEEa2WZFZG",
        "outputId": "27ca8cd7-d45b-47d3-9b90-d8723d48c0d6"
      },
      "outputs": [
        {
          "data": {
            "text/plain": [
              "array([[1, 2, 3, 4, 5, 6]])"
            ]
          },
          "execution_count": 27,
          "metadata": {},
          "output_type": "execute_result"
        }
      ],
      "source": [
        "x = np.array([[1, 2, 3]])\n",
        "y = np.array([[4, 5, 6]])\n",
        "\n",
        "np.append(x, y, axis=1)"
      ]
    },
    {
      "cell_type": "code",
      "execution_count": null,
      "metadata": {
        "id": "urUFsQMqZFZG"
      },
      "outputs": [],
      "source": []
    },
    {
      "cell_type": "markdown",
      "metadata": {
        "id": "QaKEuybI3V9E"
      },
      "source": [
        "### 請參考 [100-numpy-exercises](https://github.com/rougier/numpy-100/blob/master/100_Numpy_exercises.ipynb) 做更多 numpy 的操作練習"
      ]
    }
  ],
  "metadata": {
    "kernelspec": {
      "display_name": "Python 3",
      "language": "python",
      "name": "python3"
    },
    "language_info": {
      "codemirror_mode": {
        "name": "ipython",
        "version": 3
      },
      "file_extension": ".py",
      "mimetype": "text/x-python",
      "name": "python",
      "nbconvert_exporter": "python",
      "pygments_lexer": "ipython3",
      "version": "3.7.3"
    },
    "colab": {
      "provenance": []
    }
  },
  "nbformat": 4,
  "nbformat_minor": 0
}